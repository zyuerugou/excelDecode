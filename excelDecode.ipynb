{
 "cells": [
  {
   "cell_type": "markdown",
   "metadata": {},
   "source": [
    "# 破解保护的excel"
   ]
  },
  {
   "cell_type": "markdown",
   "metadata": {},
   "source": [
    "\n",
    "## 1. 将保护的xls另存为xlsx\n",
    "\n",
    "## 2. 将xlsx文件的后缀修改为zip\n",
    "\n",
    "## 3. 解压zip\n",
    "\n",
    "## 4. 进入xl文件夹，修改workbook.xml\n",
    "- 删除\"<workbookProtection[^<>]*>\"节点\n",
    "- 保存workbook.xml\n",
    "\n",
    "## 5. 进入worksheets文件夹，遍历所有xml文件\n",
    "- 删除<sheetProtection[^<>]*>节点\n",
    "- 保存所有xml\n",
    "\n",
    "## 6. 压缩文件为zip\n",
    "\n",
    "## 7. 将zip后缀修改为xlsx\n",
    "\n",
    "## 8. 如果需要，再将xlsx另存为xls\n",
    "\n",
    "## 9. 清理临时文件"
   ]
  },
  {
   "cell_type": "markdown",
   "metadata": {},
   "source": [
    "\n",
    "\n",
    "\n",
    "\n",
    "\n",
    "\n",
    "\n",
    "\n"
   ]
  },
  {
   "cell_type": "markdown",
   "metadata": {},
   "source": [
    "## 1. 将保护的xls另存为xlsx\n",
    "\n",
    "需要手动处理"
   ]
  },
  {
   "cell_type": "markdown",
   "metadata": {},
   "source": [
    "## 2. 将xlsx文件的后缀修改为zip"
   ]
  },
  {
   "cell_type": "code",
   "execution_count": 1,
   "metadata": {},
   "outputs": [],
   "source": [
    "import os\n",
    "\n",
    "filename = 'file'\n",
    "\n",
    "os.rename(filename + '.xlsx', filename + '.zip')"
   ]
  },
  {
   "cell_type": "markdown",
   "metadata": {},
   "source": [
    "## 3. 解压zip"
   ]
  },
  {
   "cell_type": "code",
   "execution_count": 2,
   "metadata": {},
   "outputs": [],
   "source": [
    "import zipfile\n",
    "import os\n",
    "\n",
    "zip_file = zipfile.ZipFile(filename + '.zip')\n",
    "\n",
    "# 判断同名文件夹是否存在，若不存在则创建同名文件夹\n",
    "if os.path.isdir(filename):\n",
    " rf_list = rf.namelist() # 得到压缩包里所有的文件 \n",
    " print('rar文件内容', rf_list) \n",
    "else:\n",
    " os.mkdir(filename)\n",
    "\n",
    "for names in zip_file.namelist():\n",
    "    zip_file.extract(names, filename + '/') # 解压文件\n",
    "zip_file.close() # 关闭文件，必须有，释放内存"
   ]
  },
  {
   "cell_type": "markdown",
   "metadata": {},
   "source": [
    "## 4. 进入xl文件夹，修改workbook.xml\n",
    "- 删除\"<workbookProtection[^<>]*>\"节点\n",
    "- 保存workbook.xml"
   ]
  },
  {
   "cell_type": "code",
   "execution_count": 3,
   "metadata": {},
   "outputs": [],
   "source": [
    "# -*- coding:utf-8 -*-\n",
    "import re,os,io\n",
    "\n",
    "def alter(file,old_str,new_str):\n",
    "    with io.open(file, \"r\", encoding=\"utf-8\") as f1, io.open(\"%s.bak\" % file, \"w\", encoding=\"utf-8\") as f2:\n",
    "        for line in f1:\n",
    "            f2.write(re.sub(old_str,new_str,line))\n",
    "    os.remove(file)\n",
    "    os.rename(\"%s.bak\" % file, file)\n",
    "\n"
   ]
  },
  {
   "cell_type": "code",
   "execution_count": 4,
   "metadata": {},
   "outputs": [],
   "source": [
    "base_dir = './{0}/xl/'.format(filename)\n",
    "alter(base_dir + 'workbook.xml', '<workbookProtection[^<>]*>', '')"
   ]
  },
  {
   "cell_type": "markdown",
   "metadata": {},
   "source": [
    "## 5. 进入worksheets文件夹，遍历所有xml文件\n",
    "- 删除<sheetProtection[^<>]*>节点\n",
    "- 保存所有xml"
   ]
  },
  {
   "cell_type": "code",
   "execution_count": 5,
   "metadata": {},
   "outputs": [],
   "source": [
    "def getFiles(dir, suffix = None): # 遍历所有文件\n",
    "    res = []\n",
    "    for root, directory, files in os.walk(dir):\n",
    "        for filename in files:\n",
    "            name, suf = os.path.splitext(filename)\n",
    "            if suffix is None or suf == suffix:\n",
    "                res.append(os.path.join(root, filename))\n",
    "    return res"
   ]
  },
  {
   "cell_type": "code",
   "execution_count": 6,
   "metadata": {},
   "outputs": [],
   "source": [
    "base_dir = './{0}/xl/worksheets/'.format(filename)\n",
    "for file in getFiles(base_dir, '.xml'):\n",
    "    alter(file, \"<sheetProtection[^<>]*>\", \"\")"
   ]
  },
  {
   "cell_type": "markdown",
   "metadata": {},
   "source": [
    "## 6. 压缩文件为zip\n"
   ]
  },
  {
   "cell_type": "code",
   "execution_count": 7,
   "metadata": {},
   "outputs": [],
   "source": [
    "def dfs_get_zip_file(input_path,result):\n",
    "    '''\n",
    "    dfs遍历所有文件\n",
    "    '''\n",
    "    files = os.listdir(input_path)\n",
    "    for file in files:\n",
    "        if os.path.isdir(input_path+'/'+file):\n",
    "            dfs_get_zip_file(input_path+'/'+file,result)\n",
    "        else:\n",
    "            result.append(input_path+'/'+file)\n"
   ]
  },
  {
   "cell_type": "code",
   "execution_count": 9,
   "metadata": {},
   "outputs": [],
   "source": [
    "# 需要压缩的目录\n",
    "filename = '绍兴市'\n",
    "base_dir = './{0}'.format(filename)\n",
    "# 压缩结果\n",
    "target = './{0}_res.zip'.format(filename)\n",
    "\n",
    "\n",
    "# 创建zip对象\n",
    "f = zipfile.ZipFile(target, 'w', zipfile.ZIP_DEFLATED)\n",
    "\n",
    "os.chdir(base_dir);\n",
    "\n",
    "# 压缩base_dir下所有文件\n",
    "filelists = []\n",
    "dfs_get_zip_file('./',filelists)\n",
    "for file in filelists:\n",
    "    f.write(file)\n",
    "\n",
    "os.chdir('../');\n",
    "# 关闭zip对象\n",
    "f.close()"
   ]
  },
  {
   "cell_type": "markdown",
   "metadata": {},
   "source": [
    "## 7. 将zip后缀修改为xlsx"
   ]
  },
  {
   "cell_type": "code",
   "execution_count": 10,
   "metadata": {},
   "outputs": [],
   "source": [
    "filename = './{0}_res'.format(filename)\n",
    "os.rename(filename + '.zip', filename + '.xlsx')"
   ]
  },
  {
   "cell_type": "markdown",
   "metadata": {},
   "source": [
    "## 8. 如果需要，再将xlsx另存为xls\n",
    "\n",
    "按需手动操作"
   ]
  },
  {
   "cell_type": "markdown",
   "metadata": {},
   "source": [
    "## 9. 清理临时文件"
   ]
  },
  {
   "cell_type": "code",
   "execution_count": null,
   "metadata": {},
   "outputs": [],
   "source": [
    "'''\n",
    "清理临时文件\n",
    "'''\n",
    "for root, dirs, files in os.walk(filename, topdown=False):\n",
    "    for name in files:\n",
    "        os.remove(os.path.join(root, name))\n",
    "    for name in dirs:\n",
    "        os.rmdir(os.path.join(root, name))\n",
    "os.rmdir(filename)\n",
    "os.remove(filename + '.zip')"
   ]
  }
 ],
 "metadata": {
  "kernelspec": {
   "display_name": "Python 3",
   "language": "python",
   "name": "python3"
  },
  "language_info": {
   "codemirror_mode": {
    "name": "ipython",
    "version": 3
   },
   "file_extension": ".py",
   "mimetype": "text/x-python",
   "name": "python",
   "nbconvert_exporter": "python",
   "pygments_lexer": "ipython3",
   "version": "3.7.4"
  }
 },
 "nbformat": 4,
 "nbformat_minor": 4
}
